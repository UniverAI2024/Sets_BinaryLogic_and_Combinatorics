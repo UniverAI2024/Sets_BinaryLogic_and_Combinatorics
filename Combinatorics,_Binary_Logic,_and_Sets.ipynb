{
  "nbformat": 4,
  "nbformat_minor": 0,
  "metadata": {
    "colab": {
      "provenance": []
    },
    "kernelspec": {
      "name": "python3",
      "display_name": "Python 3"
    }
  },
  "cells": [
    {
      "cell_type": "markdown",
      "metadata": {
        "id": "Te-s_ilucDpi"
      },
      "source": [
        "# Basics of Combinatorics"
      ]
    },
    {
      "cell_type": "code",
      "metadata": {
        "id": "ft_aZI3JcEkv"
      },
      "source": [
        "def P(n): #(Permutation)\n",
        "  f =1\n",
        "  for x in range(2,n+1):\n",
        "    f*=x\n",
        "  return f\n",
        "\n",
        "# Combination\n",
        "def C_n_m(n,m):\n",
        "  return P(n)/ (P(n-m)* P(m))\n",
        "\n",
        "# Variation\n",
        "def A_(n,m):\n",
        "  return C_n_m(n,m) * P(m)\n",
        "\n",
        "# Permutation with repetition\n",
        "def P_rep(n,m):\n",
        "  add = 1\n",
        "  for x in m:\n",
        "    add*=P(x)\n",
        "  return P(n)/ add\n",
        "\n",
        "# Combination with repetition\n",
        "def C_n_m_rep(n,m):\n",
        "  return P(n+m-1)/ (P(n-1)* P(m))\n",
        "\n",
        "# Variation with repetition\n",
        "def A_rep(n,m):\n",
        "  return n**m"
      ],
      "execution_count": null,
      "outputs": []
    },
    {
      "cell_type": "markdown",
      "metadata": {
        "id": "Y782m5RK29M-"
      },
      "source": [
        "## Practical Examples"
      ]
    },
    {
      "cell_type": "markdown",
      "metadata": {
        "id": "DQaVc3JJf9JK"
      },
      "source": [
        "### Task 1"
      ]
    },
    {
      "cell_type": "markdown",
      "metadata": {
        "id": "fbQu35_e0CVN"
      },
      "source": [
        "Let's count all the ways we can select two fruits from the following set:\n",
        "\n",
        "Banana, apple, pear"
      ]
    },
    {
      "cell_type": "code",
      "metadata": {
        "id": "3uNR4fTUgCea"
      },
      "source": [
        "C_n_m(3,2)"
      ],
      "execution_count": null,
      "outputs": []
    },
    {
      "cell_type": "markdown",
      "metadata": {
        "id": "l8krnnBhgZhN"
      },
      "source": [
        "Check:\n",
        "\n",
        "- apple, pear;\n",
        "- apple, banana;\n",
        "- pear, banana."
      ]
    },
    {
      "cell_type": "markdown",
      "metadata": {
        "id": "jX6FLjDdgs6-"
      },
      "source": [
        "### Task 2"
      ]
    },
    {
      "cell_type": "markdown",
      "metadata": {
        "id": "JqepxwDw0EgQ"
      },
      "source": [
        "How many ways are there to select **at least** one fruit from task 1?"
      ]
    },
    {
      "cell_type": "code",
      "metadata": {
        "id": "SRU1hXKmfsJq"
      },
      "source": [
        "C_n_m(3,3) + C_n_m(3,2) + C_n_m(3,1)"
      ],
      "execution_count": null,
      "outputs": []
    },
    {
      "cell_type": "markdown",
      "metadata": {
        "id": "kCKojtZHg_Dw"
      },
      "source": [
        "### Task 3"
      ]
    },
    {
      "cell_type": "markdown",
      "metadata": {
        "id": "QnlFm5_80H9N"
      },
      "source": [
        "How many different ways are there to seat 6 people at a round table?"
      ]
    },
    {
      "cell_type": "code",
      "metadata": {
        "id": "szVYL6kjhBx-"
      },
      "source": [
        "P(6)"
      ],
      "execution_count": null,
      "outputs": []
    },
    {
      "cell_type": "code",
      "metadata": {
        "id": "0qkKkip7GLk4"
      },
      "source": [
        "6*5*4*3*2*1"
      ],
      "execution_count": null,
      "outputs": []
    },
    {
      "cell_type": "markdown",
      "metadata": {
        "id": "ftYD5HoKh4iR"
      },
      "source": [
        "### Task 4"
      ]
    },
    {
      "cell_type": "markdown",
      "metadata": {
        "id": "-2JkkPty0KcD"
      },
      "source": [
        "A box contains 15 pieces. How many ways are there to retrieve 4 of these pieces?"
      ]
    },
    {
      "cell_type": "code",
      "metadata": {
        "id": "YXfLoPnSh9oH"
      },
      "source": [
        "C_n_m(15,4)"
      ],
      "execution_count": null,
      "outputs": []
    },
    {
      "cell_type": "markdown",
      "metadata": {
        "id": "Qzl35gNziRcZ"
      },
      "source": [
        "### Task 5"
      ]
    },
    {
      "cell_type": "markdown",
      "metadata": {
        "id": "jzcPf77A0XoF"
      },
      "source": [
        "A chess tournament has 20 participants, each of which plays in a pair against another player. How many unique matches can be made?"
      ]
    },
    {
      "cell_type": "code",
      "metadata": {
        "id": "99ZD3vtPiU58"
      },
      "source": [
        "C_n_m(20,2)"
      ],
      "execution_count": null,
      "outputs": []
    },
    {
      "cell_type": "markdown",
      "metadata": {
        "id": "bCKW1See0a99"
      },
      "source": [
        "*We can also phrase the task in the following way: 20 participants = 20 matches, each of which plays with someone else - this is a combination of 2 participants.*"
      ]
    },
    {
      "cell_type": "markdown",
      "metadata": {
        "id": "uxeG71ZuLWYx"
      },
      "source": [
        "### Task 6"
      ]
    },
    {
      "cell_type": "markdown",
      "metadata": {
        "id": "_rMDxylw0k2i"
      },
      "source": [
        "Three people sit down to play poker. In how many ways can they take three cards from the deck, given that the entire deck consists of 52 cards?"
      ]
    },
    {
      "cell_type": "code",
      "metadata": {
        "id": "QTgXVck4LxwQ"
      },
      "source": [
        "A_(52,3)"
      ],
      "execution_count": null,
      "outputs": []
    },
    {
      "cell_type": "code",
      "metadata": {
        "id": "t5GKPaydNIXL"
      },
      "source": [
        "C_n_m(52,3)"
      ],
      "execution_count": null,
      "outputs": []
    },
    {
      "cell_type": "code",
      "metadata": {
        "id": "_rm0j5k2NeO6"
      },
      "source": [
        "P(3)"
      ],
      "execution_count": null,
      "outputs": []
    },
    {
      "cell_type": "code",
      "metadata": {
        "id": "JwDqOG-nNhih"
      },
      "source": [
        "22100.0 * 6"
      ],
      "execution_count": null,
      "outputs": []
    },
    {
      "cell_type": "markdown",
      "metadata": {
        "id": "iNx23fGeSEOP"
      },
      "source": [
        "## Addition and multiplication in combinatorics"
      ]
    },
    {
      "cell_type": "markdown",
      "metadata": {
        "id": "z1oA08u_Qgm0"
      },
      "source": [
        "### Task 7"
      ]
    },
    {
      "cell_type": "markdown",
      "metadata": {
        "id": "u6xIFWWA1o0I"
      },
      "source": [
        "A company employs 23 people, including 10 men and 13 women. How many ways are there to select two people of the same gender?"
      ]
    },
    {
      "cell_type": "code",
      "metadata": {
        "id": "vyAbXDtWQqtN"
      },
      "source": [
        "m = C_n_m(10,2)\n",
        "m"
      ],
      "execution_count": null,
      "outputs": []
    },
    {
      "cell_type": "code",
      "metadata": {
        "id": "SyC5Tnu6O6j3"
      },
      "source": [
        "w = C_n_m(13, 2)\n",
        "w"
      ],
      "execution_count": null,
      "outputs": []
    },
    {
      "cell_type": "code",
      "metadata": {
        "id": "K2J7iXiLO_eE"
      },
      "source": [
        "m+w"
      ],
      "execution_count": null,
      "outputs": []
    },
    {
      "cell_type": "markdown",
      "metadata": {
        "id": "rWeJItN6R0GZ"
      },
      "source": [
        "### Task 8"
      ]
    },
    {
      "cell_type": "markdown",
      "metadata": {
        "id": "8VRky6qx2NQO"
      },
      "source": [
        "The employees from task 7 have organized a party. How many ways are there to sit four different people across each table in such a way that two men and two women sit at each table.\n"
      ]
    },
    {
      "cell_type": "code",
      "metadata": {
        "id": "ytC0FFt6SC2X"
      },
      "source": [
        "m * w"
      ],
      "execution_count": null,
      "outputs": []
    },
    {
      "cell_type": "markdown",
      "metadata": {
        "id": "smj3urNoXnp3"
      },
      "source": [
        "## Permutation with repetition"
      ]
    },
    {
      "cell_type": "markdown",
      "metadata": {
        "id": "5Lp1TbzkYXOO"
      },
      "source": [
        "### Task 9\n",
        "\n"
      ]
    },
    {
      "cell_type": "markdown",
      "metadata": {
        "id": "kQRWpm7y2mSX"
      },
      "source": [
        "How many permutations can be made using the letters in the word HAWAII ?"
      ]
    },
    {
      "cell_type": "code",
      "metadata": {
        "id": "ISsn3c_MXqCr"
      },
      "source": [
        "n = 6\n",
        "m = [1, 2, 1, 2]\n",
        "print(P_rep(n , m))"
      ],
      "execution_count": null,
      "outputs": []
    },
    {
      "cell_type": "code",
      "metadata": {
        "id": "ftSjB7uVToWL"
      },
      "source": [
        "P(6)"
      ],
      "execution_count": null,
      "outputs": []
    },
    {
      "cell_type": "code",
      "metadata": {
        "id": "XWtfvAfpTnEG"
      },
      "source": [
        "720 / 4"
      ],
      "execution_count": null,
      "outputs": []
    },
    {
      "cell_type": "markdown",
      "metadata": {
        "id": "jwY48S4ibnef"
      },
      "source": [
        "### Task 10"
      ]
    },
    {
      "cell_type": "markdown",
      "metadata": {
        "id": "z3tdnvMZ26sH"
      },
      "source": [
        "A restaraunt offers soups, burgers, and pizza. How many ways are there to order 7 meals?"
      ]
    },
    {
      "cell_type": "code",
      "metadata": {
        "id": "HLnBKcjTMz3x"
      },
      "source": [
        "C_n_m_rep(3, 7)"
      ],
      "execution_count": null,
      "outputs": []
    },
    {
      "cell_type": "markdown",
      "metadata": {
        "id": "94Y7_exUdVnR"
      },
      "source": [
        "### Task 11"
      ]
    },
    {
      "cell_type": "markdown",
      "metadata": {
        "id": "xhJC0-xE3iMO"
      },
      "source": [
        "How many unique PIN numbers can be made using four digits?"
      ]
    },
    {
      "cell_type": "code",
      "metadata": {
        "id": "c-HNv9gGiZXo"
      },
      "source": [
        "A_rep(10, 4)"
      ],
      "execution_count": null,
      "outputs": []
    },
    {
      "cell_type": "code",
      "metadata": {
        "id": "9ZWdn-apUXI9"
      },
      "source": [
        "10 ** 4"
      ],
      "execution_count": null,
      "outputs": []
    },
    {
      "cell_type": "markdown",
      "metadata": {
        "id": "ozHQXry5n2IS"
      },
      "source": [
        "# Sets"
      ]
    },
    {
      "cell_type": "markdown",
      "metadata": {
        "id": "LExGa8HRn0dH"
      },
      "source": [
        "### Task 1"
      ]
    },
    {
      "cell_type": "markdown",
      "metadata": {
        "id": "76lq9Qtx4PHg"
      },
      "source": [
        "Create set E given $E = A\\cup B $, and A={2, 4, 6, 8, 10, 12}, B={3, 6, 9, 12}."
      ]
    },
    {
      "cell_type": "code",
      "metadata": {
        "id": "sA5Uqq7bn09_"
      },
      "source": [
        "A = {2,4,6,8,10,12}\n",
        "B = {3, 6 ,9 ,12}\n",
        "E = A.copy()\n",
        "E.update(B)\n",
        "E"
      ],
      "execution_count": null,
      "outputs": []
    },
    {
      "cell_type": "markdown",
      "metadata": {
        "id": "v4CymOtetlIc"
      },
      "source": [
        "### Task 2"
      ]
    },
    {
      "cell_type": "markdown",
      "metadata": {
        "id": "Rr2OQNso5I6o"
      },
      "source": [
        "Create set E, given that $E = A\\B $, and A={2, 4, 6}, B={3, 6, 9}."
      ]
    },
    {
      "cell_type": "code",
      "metadata": {
        "id": "pO34Znd8n1ao"
      },
      "source": [
        "A = {2, 4 ,6}\n",
        "B = {3, 6, 9}\n",
        "E = {e for e in A if e not in B}\n",
        "E"
      ],
      "execution_count": null,
      "outputs": []
    },
    {
      "cell_type": "code",
      "metadata": {
        "id": "nADI8Fp4Z89Z"
      },
      "source": [
        "A - B"
      ],
      "execution_count": null,
      "outputs": []
    },
    {
      "cell_type": "markdown",
      "metadata": {
        "id": "aPem35cyDbTf"
      },
      "source": [
        "# Binary logic\n",
        "\n",
        "Binary logic is based on the following assertion: every question can be answered with \"yes\" or **True**, or \"no\" **False**. Let's look at the following operations.\n",
        "\n",
        "* Conjunction - binary operation (logical \"AND\"), multiplication, analogous to the **min** function but involving boolean values. ie. the result will be equal to the \"smallest\" value.\n",
        "> In Python this is detoned by the *and* keyword.\n",
        "\n",
        "* Disjunction - binary operation (logical \"OR\"), addition, analogous to the **max** function but involving boolean values. ie. the result will be equal to the \"largest\" value.\n",
        "> In Python this is detoned by the *or* keyword.\n",
        "\n",
        "* Negation - unary operation (operation with one input), the output of which will be the opposite of the input\n",
        "> In Python this is detoned by the *not* keyword.\n",
        "\n",
        "What is this used for?\n",
        "> Comparing values\n",
        "\n",
        "Questions which can be answered using **True** or **False**\n",
        "- $<$   less than\n",
        "- $>$  greater than\n",
        "- $<=$  less than or equal to\n",
        "- $>=$  greater than or equal to\n",
        "- $==$  equal\n",
        "- $!=$  not equal\n"
      ]
    },
    {
      "cell_type": "code",
      "metadata": {
        "id": "GsbjgWl2GM8m",
        "outputId": "85325893-f53a-430c-99e1-e8822d1fc94f",
        "colab": {
          "base_uri": "https://localhost:8080/",
          "height": 85
        }
      },
      "source": [
        "### Conjunction. Table of values ###\n",
        "print(False and False)\n",
        "print(False and True)\n",
        "print(True and False)\n",
        "print(True and True)"
      ],
      "execution_count": null,
      "outputs": [
        {
          "output_type": "stream",
          "text": [
            "False\n",
            "False\n",
            "False\n",
            "True\n"
          ],
          "name": "stdout"
        }
      ]
    },
    {
      "cell_type": "code",
      "metadata": {
        "id": "6uD3L5YCGZ4C",
        "outputId": "5efb2d44-3622-490b-d533-88ddc0b17108",
        "colab": {
          "base_uri": "https://localhost:8080/",
          "height": 85
        }
      },
      "source": [
        "### Disjunction. Table of values ###\n",
        "print(False or False)\n",
        "print(False or True)\n",
        "print(True or False)\n",
        "print(True or True)"
      ],
      "execution_count": null,
      "outputs": [
        {
          "output_type": "stream",
          "text": [
            "False\n",
            "True\n",
            "True\n",
            "True\n"
          ],
          "name": "stdout"
        }
      ]
    },
    {
      "cell_type": "code",
      "metadata": {
        "id": "xdiPlS7iOV6N",
        "outputId": "f74ef298-b0bc-483f-db3a-7a5865e4d962",
        "colab": {
          "base_uri": "https://localhost:8080/",
          "height": 51
        }
      },
      "source": [
        "### Negation ###\n",
        "print(not True)\n",
        "print(not False)"
      ],
      "execution_count": null,
      "outputs": [
        {
          "output_type": "stream",
          "text": [
            "False\n",
            "True\n"
          ],
          "name": "stdout"
        }
      ]
    },
    {
      "cell_type": "code",
      "metadata": {
        "id": "-gybfJubr2vH",
        "outputId": "b2ef155a-c6f3-4dda-f3b9-650401523d5b",
        "colab": {
          "base_uri": "https://localhost:8080/",
          "height": 85
        }
      },
      "source": [
        "### Implication ###\n",
        "print(not False or False)\n",
        "print(not False or True)\n",
        "print(not True or False)\n",
        "print(not True or True)\n"
      ],
      "execution_count": null,
      "outputs": [
        {
          "output_type": "stream",
          "text": [
            "True\n",
            "True\n",
            "False\n",
            "True\n"
          ],
          "name": "stdout"
        }
      ]
    },
    {
      "cell_type": "code",
      "metadata": {
        "id": "ODxx6jrANk3E",
        "outputId": "0091849d-e9b1-41c7-d82c-d33f034b7282",
        "colab": {
          "base_uri": "https://localhost:8080/",
          "height": 119
        }
      },
      "source": [
        "x = 5\n",
        "y = 8\n",
        "\n",
        "print(\"x == y:\", x == y)\n",
        "print(\"x != y:\", x != y)\n",
        "print(\"x < y:\", x < y)\n",
        "print(\"x > y:\", x > y)\n",
        "print(\"x <= y:\", x <= y)\n",
        "print(\"x >= y:\", x >= y)"
      ],
      "execution_count": null,
      "outputs": [
        {
          "output_type": "stream",
          "text": [
            "x == y: False\n",
            "x != y: True\n",
            "x < y: True\n",
            "x > y: False\n",
            "x <= y: True\n",
            "x >= y: False\n"
          ],
          "name": "stdout"
        }
      ]
    },
    {
      "cell_type": "markdown",
      "metadata": {
        "id": "eGbgOpQf50ZC"
      },
      "source": [
        "Let's imagine a situation: a satellite predicts the weather for the following day based on the following logic.\n",
        "\n",
        "If it won't be windy, it will be cloudy but without rain;\n",
        "\n",
        "If it won't rain, it will be cloudy and without wind;\n",
        "\n",
        "If it won't be cloudy, there will be rain and no wind.\n",
        "\n",
        "What will the weather be like the following day?"
      ]
    },
    {
      "cell_type": "code",
      "metadata": {
        "id": "knXzRh6N66nD",
        "outputId": "de0ced55-401d-49f1-eabd-b45910584f0e",
        "colab": {
          "base_uri": "https://localhost:8080/",
          "height": 153
        }
      },
      "source": [
        "# a = Windy\n",
        "# b = Cloudy\n",
        "# c = Rain\n",
        "for a in range (2):\n",
        "  for b in range (2):\n",
        "    for c in range (2):\n",
        "      f1 = a or (b and (not c))\n",
        "      f2 = (not c) or (b and (not a))\n",
        "      f3 = (not b) or (c and (not a))\n",
        "      f = f1 and f2 and f3\n",
        "      print(a,b,c, ':', bool(f))"
      ],
      "execution_count": null,
      "outputs": [
        {
          "output_type": "stream",
          "text": [
            "0 0 0 : False\n",
            "0 0 1 : False\n",
            "0 1 0 : False\n",
            "0 1 1 : False\n",
            "1 0 0 : True\n",
            "1 0 1 : False\n",
            "1 1 0 : False\n",
            "1 1 1 : False\n"
          ],
          "name": "stdout"
        }
      ]
    },
    {
      "cell_type": "markdown",
      "metadata": {
        "id": "zSqfApaO1jUc"
      },
      "source": [
        "# **Glossary**\n",
        "\n",
        "**Permutation (P)** describes how many different ways one can reorganize a set without changing its contents.\n",
        "\n",
        "*Example*: Suppose you have four digits and your task is to generate all possible four-digit numbers using these digits.\n",
        "\n",
        "**Combination (C)** involving n and k consists of k elements chosen from a set, which in turn contains n total elements. The order of these elements does not matter.\n",
        "\n",
        "*Example*: Given five ingredients, we need to brew three drinks. It does not matter if we add strawberries first followed by watermelons, or watermelons first and then strawberries, the final product will be the same.\n",
        "\n",
        "**Variation (A)** involving n and k consists of k elements taken from a set of n elements. The order of the elements matters.\n",
        "\n",
        "*Example*: Let's suppose you have ten digits that can be used to create a four-character password. Even if you use the same characters but in a different order, the passwords will be different.\n",
        "\n"
      ]
    }
  ]
}